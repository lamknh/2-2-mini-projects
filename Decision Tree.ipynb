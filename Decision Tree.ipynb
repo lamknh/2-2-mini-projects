{
 "cells": [
  {
   "cell_type": "code",
   "execution_count": 20,
   "metadata": {},
   "outputs": [
    {
     "name": "stdout",
     "output_type": "stream",
     "text": [
      "     level    lang  tweets    phd  did_well\n",
      "0   Senior    Java   False  False     False\n",
      "1   Senior    Java   False   True     False\n",
      "2      Mid  Python   False  False      True\n",
      "3   Junior  Python   False  False      True\n",
      "4   Junior       R    True  False      True\n",
      "5   Junior       R    True   True     False\n",
      "6      Mid       R    True   True      True\n",
      "7   Senior  Python   False  False     False\n",
      "8   Senior       R    True  False      True\n",
      "9   Junior  Python    True  False      True\n",
      "10  Senior  Python    True   True      True\n",
      "11     Mid  Python   False   True      True\n",
      "12     Mid    Java    True  False      True\n",
      "13  Junior  Python   False   True     False\n"
     ]
    },
    {
     "ename": "NameError",
     "evalue": "name 'X_train' is not defined",
     "output_type": "error",
     "traceback": [
      "\u001b[1;31m---------------------------------------------------------------------------\u001b[0m",
      "\u001b[1;31mNameError\u001b[0m                                 Traceback (most recent call last)",
      "\u001b[1;32m<ipython-input-20-15692804f631>\u001b[0m in \u001b[0;36m<module>\u001b[1;34m\u001b[0m\n\u001b[0;32m     48\u001b[0m \u001b[1;33m\u001b[0m\u001b[0m\n\u001b[0;32m     49\u001b[0m \u001b[0mclf\u001b[0m \u001b[1;33m=\u001b[0m \u001b[0mDecisionTreeClassifier\u001b[0m\u001b[1;33m(\u001b[0m\u001b[1;33m)\u001b[0m\u001b[1;33m\u001b[0m\u001b[1;33m\u001b[0m\u001b[0m\n\u001b[1;32m---> 50\u001b[1;33m \u001b[0mclf\u001b[0m\u001b[1;33m.\u001b[0m\u001b[0mfit\u001b[0m\u001b[1;33m(\u001b[0m\u001b[0mX_train\u001b[0m\u001b[1;33m,\u001b[0m \u001b[0mY_train\u001b[0m\u001b[1;33m)\u001b[0m\u001b[1;33m\u001b[0m\u001b[1;33m\u001b[0m\u001b[0m\n\u001b[0m",
      "\u001b[1;31mNameError\u001b[0m: name 'X_train' is not defined"
     ]
    }
   ],
   "source": [
    "import pandas as pd        \n",
    "from sklearn import tree\n",
    "import graphviz\n",
    "\n",
    "#  level     lang     tweets  phd  did_well\n",
    "class Candidate(object):\n",
    "    #level : str lang : str tweets : bool phd : bool did_well : Optional[bool] = none\n",
    "    def __init__(self, level, lang, tweets, phd, did_well):\n",
    "        self.level = level\n",
    "        self.lang = lang\n",
    "        self.tweets = tweets\n",
    "        self.phd = phd\n",
    "        self.did_well = did_well\n",
    "        \n",
    "    def to_dict(self):\n",
    "        return {\n",
    "            'level' : self.level,\n",
    "            'lang' : self.lang,\n",
    "            'tweets' : self.tweets,\n",
    "            'phd' : self.phd,\n",
    "            'did_well' : self.did_well\n",
    "        }\n",
    "\n",
    "inputs = [Candidate('Senior', 'Java',   False, False, False),\n",
    "          Candidate('Senior', 'Java',   False, True,  False),\n",
    "          Candidate('Mid',    'Python', False, False, True),\n",
    "          Candidate('Junior', 'Python', False, False, True),\n",
    "          Candidate('Junior', 'R',      True,  False, True),\n",
    "          Candidate('Junior', 'R',      True,  True,  False),\n",
    "          Candidate('Mid',    'R',      True,  True,  True),\n",
    "          Candidate('Senior', 'Python', False, False, False),\n",
    "          Candidate('Senior', 'R',      True,  False, True),\n",
    "          Candidate('Junior', 'Python', True,  False, True),\n",
    "          Candidate('Senior', 'Python', True,  True,  True),\n",
    "          Candidate('Mid',    'Python', False, True,  True),\n",
    "          Candidate('Mid',    'Java',   True,  False, True),\n",
    "          Candidate('Junior', 'Python', False, True,  False)]\n",
    "\n",
    "data = pd.DataFrame.from_records(i.to_dict() for i in inputs)\n",
    "\n",
    "# did_well을 판정하는 DecisionTree 그래프\n",
    "\n",
    "features = data[['level', 'lang', 'tweets', 'phd', 'did_well']]\n",
    "target = data[\"did_well\"]\n",
    "labels = [0,0,1,1,1,0,1,0,1,1,1,1,1,0]\n",
    "\n",
    "print(data)\n",
    "\n",
    "def did_well(target_col):\n",
    "    if target_col"
   ]
  },
  {
   "cell_type": "code",
   "execution_count": null,
   "metadata": {},
   "outputs": [],
   "source": [
    "http://blog.daum.net/geoscience/1312\n",
    "    https://blog.naver.com/teorw272/222078547130"
   ]
  }
 ],
 "metadata": {
  "kernelspec": {
   "display_name": "Python 3",
   "language": "python",
   "name": "python3"
  },
  "language_info": {
   "codemirror_mode": {
    "name": "ipython",
    "version": 3
   },
   "file_extension": ".py",
   "mimetype": "text/x-python",
   "name": "python",
   "nbconvert_exporter": "python",
   "pygments_lexer": "ipython3",
   "version": "3.8.3"
  }
 },
 "nbformat": 4,
 "nbformat_minor": 4
}

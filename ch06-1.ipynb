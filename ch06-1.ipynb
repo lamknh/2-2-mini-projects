{
 "cells": [
  {
   "cell_type": "code",
   "execution_count": 4,
   "metadata": {},
   "outputs": [
    {
     "name": "stdout",
     "output_type": "stream",
     "text": [
      "442133\n"
     ]
    }
   ],
   "source": [
    "sum = 0\n",
    "dic = {}\n",
    "for i in range(3000):\n",
    "    dic[i] = 1\n",
    "    \n",
    "for k in range (1, 3000):\n",
    "    thou = k // 1000\n",
    "    hund = (k - thou * 1000) // 100\n",
    "    ten  = (k - thou* 1000 - hund * 100) // 10\n",
    "    num = thou + hund + ten + (k - thou * 1000 - hund * 100 - ten * 10) + k\n",
    "    dic[num] = 0\n",
    "\n",
    "for j in range(1, 3000):\n",
    "    if(dic[j] == 1):\n",
    "        sum += j\n",
    "print(sum)"
   ]
  },
  {
   "cell_type": "code",
   "execution_count": null,
   "metadata": {},
   "outputs": [],
   "source": []
  }
 ],
 "metadata": {
  "kernelspec": {
   "display_name": "Python 3",
   "language": "python",
   "name": "python3"
  },
  "language_info": {
   "codemirror_mode": {
    "name": "ipython",
    "version": 3
   },
   "file_extension": ".py",
   "mimetype": "text/x-python",
   "name": "python",
   "nbconvert_exporter": "python",
   "pygments_lexer": "ipython3",
   "version": "3.8.3"
  }
 },
 "nbformat": 4,
 "nbformat_minor": 4
}
